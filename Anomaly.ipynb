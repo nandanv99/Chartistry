{
 "cells": [
  {
   "cell_type": "code",
   "execution_count": 2,
   "metadata": {},
   "outputs": [
    {
     "data": {
      "text/plain": [
       "([6, 19], [19], [19])"
      ]
     },
     "execution_count": 2,
     "metadata": {},
     "output_type": "execute_result"
    }
   ],
   "source": [
    "from sklearn.ensemble import IsolationForest\n",
    "from scipy import stats\n",
    "import numpy as np\n",
    "import pandas as pd\n",
    "\n",
    "def detect_anomalies_iqr(df, feature):\n",
    "    \"\"\"\n",
    "    Detects anomalies using the IQR method.\n",
    "    \n",
    "    Args:\n",
    "    - df (pandas.DataFrame): The input DataFrame.\n",
    "    - feature (str): The feature for which anomalies are to be detected.\n",
    "    \n",
    "    Returns:\n",
    "    - list: List of indices of anomalies.\n",
    "    \"\"\"\n",
    "    Q1 = df[feature].quantile(0.25)\n",
    "    Q3 = df[feature].quantile(0.75)\n",
    "    IQR = Q3 - Q1\n",
    "    lower_bound = Q1 - 1.5 * IQR\n",
    "    upper_bound = Q3 + 1.5 * IQR\n",
    "    \n",
    "    anomalies = df[(df[feature] < lower_bound) | (df[feature] > upper_bound)]\n",
    "    \n",
    "    return anomalies.index.tolist()\n",
    "\n",
    "def detect_anomalies_zscore(df, feature, threshold=3):\n",
    "    \"\"\"\n",
    "    Detects anomalies using the Z-score method.\n",
    "    \n",
    "    Args:\n",
    "    - df (pandas.DataFrame): The input DataFrame.\n",
    "    - feature (str): The feature for which anomalies are to be detected.\n",
    "    - threshold (float): The Z-score threshold beyond which data points are considered anomalies.\n",
    "    \n",
    "    Returns:\n",
    "    - list: List of indices of anomalies.\n",
    "    \"\"\"\n",
    "    z_scores = np.abs(stats.zscore(df[feature]))\n",
    "    anomalies = np.where(z_scores > threshold)\n",
    "    \n",
    "    return anomalies[0].tolist()\n",
    "\n",
    "def detect_anomalies_isolation_forest(df, feature):\n",
    "    \"\"\"\n",
    "    Detects anomalies using the Isolation Forest method.\n",
    "    \n",
    "    Args:\n",
    "    - df (pandas.DataFrame): The input DataFrame.\n",
    "    - feature (str): The feature for which anomalies are to be detected.\n",
    "    \n",
    "    Returns:\n",
    "    - list: List of indices of anomalies.\n",
    "    \"\"\"\n",
    "    model = IsolationForest(contamination=0.05)\n",
    "    model.fit(df[feature].values.reshape(-1, 1))\n",
    "    preds = model.predict(df[feature].values.reshape(-1, 1))\n",
    "    anomalies = np.where(preds == -1)\n",
    "    \n",
    "    return anomalies[0].tolist()\n",
    "\n",
    "# For demonstration purposes, let's create a sample dataframe and detect anomalies\n",
    "sample_data_for_anomalies = {\n",
    "    'Feature': [10, 11, 10, 12, 10, 11, 50, 11, 10, 12, 10, 11, 10, 11, 12, 13, 11, 12, 10, 100]\n",
    "}\n",
    "sample_df_for_anomalies = pd.DataFrame(sample_data_for_anomalies)\n",
    "\n",
    "# Detect anomalies using the IQR method\n",
    "anomalies_iqr = detect_anomalies_iqr(sample_df_for_anomalies, 'Feature')\n",
    "\n",
    "# Detect anomalies using the Z-score method\n",
    "anomalies_zscore = detect_anomalies_zscore(sample_df_for_anomalies, 'Feature')\n",
    "\n",
    "# Detect anomalies using the Isolation Forest method\n",
    "anomalies_isolation_forest = detect_anomalies_isolation_forest(sample_df_for_anomalies, 'Feature')\n",
    "\n",
    "anomalies_iqr, anomalies_zscore, anomalies_isolation_forest\n"
   ]
  },
  {
   "cell_type": "code",
   "execution_count": 4,
   "metadata": {},
   "outputs": [
    {
     "data": {
      "image/png": "[encoded data removed]",
      "text/plain": [
       "<Figure size 720x432 with 1 Axes>"
      ]
     },
     "metadata": {
      "needs_background": "light"
     },
     "output_type": "display_data"
    }
   ],
   "source": [
    "import matplotlib.pyplot as plt\n",
    "def visualize_anomalies(df, feature, anomalies):\n",
    "    \"\"\"\n",
    "    Visualizes the data and highlights anomalies.\n",
    "    \n",
    "    Args:\n",
    "    - df (pandas.DataFrame): The input DataFrame.\n",
    "    - feature (str): The feature for which anomalies are to be detected.\n",
    "    - anomalies (list): List of indices of anomalies.\n",
    "    \n",
    "    Returns:\n",
    "    - plt.figure: A plot visualizing the data and anomalies.\n",
    "    \"\"\"\n",
    "    plt.figure(figsize=(10, 6))\n",
    "    plt.plot(df[feature], 'k-', label='Data')\n",
    "    plt.plot(anomalies, df.iloc[anomalies][feature], 'ro', label='Anomalies', markersize=10)\n",
    "    plt.xlabel('Index')\n",
    "    plt.ylabel(feature)\n",
    "    plt.title(f'Anomalies in {feature}')\n",
    "    plt.legend()\n",
    "    return plt\n",
    "\n",
    "# Visualize anomalies detected by the IQR method\n",
    "visualize_anomalies(sample_df_for_anomalies, 'Feature', anomalies_iqr).show()\n"
   ]
  },
  {
   "cell_type": "code",
   "execution_count": 2,
   "metadata": {},
   "outputs": [],
   "source": [
    "import requests \n",
    "import pandas as pd\n",
    "from io import StringIO"
   ]
  },
  {
   "cell_type": "code",
   "execution_count": 5,
   "metadata": {},
   "outputs": [],
   "source": [
    "normal_list=\"https://api.etherscan.io/api?module=account&action=txlist&address=\"+\"0x6a091a3406E0073C3CD6340122143009aDac0EDa\"+\"&startblock=StartBlockNumber&endblock=EndBlockNumber&sort=asc&apikey=\"+\"KQ8CTV715ADWGM62JA2DVZA1V23A9MBHHU\"\n",
    "y = requests.get(normal_list)\n",
    "x=pd.read_json(StringIO(y.text))\n",
    "x.to_csv(\"data.csv\")"
   ]
  },
  {
   "cell_type": "code",
   "execution_count": 7,
   "metadata": {},
   "outputs": [],
   "source": [
    "x.result.to_csv(\"data.csv\")"
   ]
  },
  {
   "cell_type": "code",
   "execution_count": null,
   "metadata": {},
   "outputs": [],
   "source": []
  }
 ],
 "metadata": {
  "interpreter": {
   "hash": "626392158c1145e1f3cac11e8ce1aa914b33f6dd9329c7f3cba88433805e65c9"
  },
  "kernelspec": {
   "display_name": "Python 3.9.12 ('base')",
   "language": "python",
   "name": "python3"
  },
  "language_info": {
   "codemirror_mode": {
    "name": "ipython",
    "version": 3
   },
   "file_extension": ".py",
   "mimetype": "text/x-python",
   "name": "python",
   "nbconvert_exporter": "python",
   "pygments_lexer": "ipython3",
   "version": "3.9.12"
  },
  "orig_nbformat": 4
 },
 "nbformat": 4,
 "nbformat_minor": 2
}
