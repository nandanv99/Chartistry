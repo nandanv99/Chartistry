{
 "cells": [
  {
   "cell_type": "markdown",
   "metadata": {},
   "source": [
    "## Feature Importance:\n",
    "_If users upload data with a target column, allow them to run a feature importance analysis to determine which features/columns are the most influential in predicting the target._\n",
    "- Feature importance analysis can provide users with insights into which columns (or features) in their data are most influential in predicting a target variable. This is especially useful when deciding which features to focus on or when trying to understand the underlying patterns in the data."
   ]
  },
  {
   "cell_type": "code",
   "execution_count": 7,
   "metadata": {},
   "outputs": [
    {
     "data": {
      "image/png": "[encoded data removed]",
      "text/plain": [
       "<Figure size 720x504 with 1 Axes>"
      ]
     },
     "metadata": {
      "needs_background": "light"
     },
     "output_type": "display_data"
    }
   ],
   "source": [
    "from sklearn.ensemble import RandomForestRegressor, GradientBoostingRegressor\n",
    "from sklearn.tree import DecisionTreeRegressor\n",
    "import pandas as pd\n",
    "import matplotlib.pyplot as plt\n",
    "\n",
    "def get_feature_importance(df, target_column, algorithm=\"random_forest\"):\n",
    "    \"\"\"\n",
    "    Extracts feature importance using the specified algorithm.\n",
    "    \n",
    "    Args:\n",
    "    - df (pandas.DataFrame): The input DataFrame.\n",
    "    - target_column (str): The target column name.\n",
    "    - algorithm (str): The algorithm to use for extracting feature importance.\n",
    "    \n",
    "    Returns:\n",
    "    - dict: A dictionary with feature names as keys and their importance scores as values.\n",
    "    \"\"\"\n",
    "    X = df.drop(target_column, axis=1)\n",
    "    y = df[target_column]\n",
    "    \n",
    "    if algorithm == \"random_forest\":\n",
    "        model = RandomForestRegressor()\n",
    "    elif algorithm == \"decision_tree\":\n",
    "        model = DecisionTreeRegressor()\n",
    "    elif algorithm == \"gradient_boosting\":\n",
    "        model = GradientBoostingRegressor()\n",
    "    else:\n",
    "        raise ValueError(\"Unsupported algorithm. Choose 'random_forest', 'decision_tree', or 'gradient_boosting'.\")\n",
    "    \n",
    "    model.fit(X, y)\n",
    "    feature_importance = model.feature_importances_\n",
    "    \n",
    "    # Create a dictionary of feature names and their importance scores\n",
    "    importance_dict = dict(zip(X.columns, feature_importance))\n",
    "    \n",
    "    return importance_dict\n",
    "\n",
    "def visualize_feature_importance(importance_dict):\n",
    "    \"\"\"\n",
    "    Visualizes the feature importance using a bar plot.\n",
    "    \n",
    "    Args:\n",
    "    - importance_dict (dict): Dictionary with feature names as keys and their importance scores as values.\n",
    "    \n",
    "    Returns:\n",
    "    - plt.figure: A bar plot visualizing the feature importance.\n",
    "    \"\"\"\n",
    "    # Sort dictionary by importance\n",
    "    sorted_importance = dict(sorted(importance_dict.items(), key=lambda item: item[1], reverse=True))\n",
    "    \n",
    "    plt.figure(figsize=(10, 7))\n",
    "    plt.bar(list(sorted_importance.keys()), list(sorted_importance.values()), color='skyblue')\n",
    "    plt.xlabel('Importance')\n",
    "    plt.ylabel('Features')\n",
    "    plt.title('Feature Importance')\n",
    "    plt.gca().invert_yaxis()  # Highest importance at the top\n",
    "    return plt\n",
    "\n",
    "# For demonstration purposes, let's create a sample dataframe and visualize feature importance\n",
    "sample_data_for_importance = {\n",
    "    'Feature1': [1, 5, 1.5, 8, 1, 9, 2, 8, 2, 9],\n",
    "    'Feature2': [2, 8, 1.8, 8, 0.6, 11, 2.5, 6, 3, 10],\n",
    "    'Target': [2.5, 6.5, 2.1, 8.3, 1.4, 9.6, 3, 7.2, 2.7, 9.5]\n",
    "}\n",
    "sample_df_for_importance = pd.DataFrame(sample_data_for_importance)\n",
    "\n",
    "# Extract and visualize feature importance\n",
    "importance_dict = get_feature_importance(sample_df_for_importance, 'Target', algorithm=\"random_forest\")\n",
    "visualize_feature_importance(importance_dict).show()\n"
   ]
  },
  {
   "cell_type": "code",
   "execution_count": null,
   "metadata": {},
   "outputs": [],
   "source": []
  }
 ],
 "metadata": {
  "interpreter": {
   "hash": "626392158c1145e1f3cac11e8ce1aa914b33f6dd9329c7f3cba88433805e65c9"
  },
  "kernelspec": {
   "display_name": "Python 3.9.12 ('base')",
   "language": "python",
   "name": "python3"
  },
  "language_info": {
   "codemirror_mode": {
    "name": "ipython",
    "version": 3
   },
   "file_extension": ".py",
   "mimetype": "text/x-python",
   "name": "python",
   "nbconvert_exporter": "python",
   "pygments_lexer": "ipython3",
   "version": "3.9.12"
  },
  "orig_nbformat": 4
 },
 "nbformat": 4,
 "nbformat_minor": 2
}
